{
 "cells": [
  {
   "cell_type": "code",
   "execution_count": 18,
   "metadata": {},
   "outputs": [
    {
     "name": "stdout",
     "output_type": "stream",
     "text": [
      "Numero de jogadores (2 ou 4): Escolha o nome do jogador 1 (time 1): \n",
      "Escolha o nome do jogador 2 (time 2): \n",
      "\fPilha de cartas:\n",
      "\n",
      "Sua mÃ£o Rodrigo:\n",
      "5â™£,5â™ ,4â™¦\n",
      "Qual jogada deseja realizar?\n",
      "(A) - Aumentar a aposta\n",
      "(J) - Jogar uma carta:  \n",
      "\fRodrigo Aumentou a aposta, deseja aceitar, correr ou aumentar a aposta novamente?\n",
      "Digite D para dobrar a aposta, C para correr, ou A para aceitar:\n",
      "(D) dobrar a aposta\n",
      "(C) correr\n",
      "(A) aceitar\n",
      "\n"
     ]
    }
   ],
   "source": [
    "import subprocess\n",
    "\n",
    "path =  r\"C:\\Users\\rodrigo.braz\\Rodrigo_Si\\tp_testesoftware\\truco-mineiro\\main.py\"\n",
    "    \n",
    "processo = subprocess.Popen(['python', path], text= True, stdin=subprocess.PIPE, stdout=subprocess.PIPE, stderr=subprocess.PIPE, universal_newlines=True)\n",
    "processo.stdin.write('2' + \"\\n\")\n",
    "processo.stdin.write('Rodrigo' + \"\\n\")\n",
    "processo.stdin.write('Andre Hora' + \"\\n\")\n",
    "processo.stdin.write('A' + \"\\n\")\n",
    "\n",
    "\n",
    "\n",
    "output, errors = processo.communicate()\n",
    "processo.stdin.close()\n",
    "\n",
    "print(output)"
   ]
  }
 ],
 "metadata": {
  "kernelspec": {
   "display_name": "Python 3",
   "language": "python",
   "name": "python3"
  },
  "language_info": {
   "codemirror_mode": {
    "name": "ipython",
    "version": 3
   },
   "file_extension": ".py",
   "mimetype": "text/x-python",
   "name": "python",
   "nbconvert_exporter": "python",
   "pygments_lexer": "ipython3",
   "version": "3.9.0"
  },
  "orig_nbformat": 4
 },
 "nbformat": 4,
 "nbformat_minor": 2
}
