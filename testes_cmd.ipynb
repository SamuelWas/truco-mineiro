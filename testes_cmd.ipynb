{
 "cells": [
  {
   "cell_type": "code",
   "execution_count": 19,
   "metadata": {},
   "outputs": [
    {
     "name": "stdout",
     "output_type": "stream",
     "text": [
      "Numero de jogadores (2 ou 4): Escolha o nome do jogador 1 (time 1): \n",
      "Escolha o nome do jogador 2 (time 2): \n",
      "\fPilha de cartas:\n",
      "\n",
      "Sua mÃ£o Rodrigo:\n",
      "5â™¦,3â™¥,6â™£\n",
      "Qual jogada deseja realizar?\n",
      "(A) - Aumentar a aposta\n",
      "(J) - Jogar uma carta:  \n",
      "\fSua mÃ£o Rodrigo:\n",
      "5â™¦,3â™¥,6â™£\n",
      "Qual carta deseja Jogar? \n"
     ]
    }
   ],
   "source": [
    "import subprocess\n",
    "\n",
    "path =  r\"C:\\Users\\rodrigo.braz\\Rodrigo_Si\\tp_testesoftware\\truco-mineiro\\main.py\"\n",
    "    \n",
    "processo = subprocess.Popen(['python', path], text= True, stdin=subprocess.PIPE, stdout=subprocess.PIPE, stderr=subprocess.PIPE, universal_newlines=True)\n",
    "processo.stdin.write('2' + \"\\n\")\n",
    "processo.stdin.write('Rodrigo' + \"\\n\")\n",
    "processo.stdin.write('Andre Hora' + \"\\n\")\n",
    "processo.stdin.write('J' + \"\\n\")\n",
    "\n",
    "\n",
    "output, errors = processo.communicate()\n",
    "processo.stdin.close()\n",
    "\n",
    "output_lines = output.splitlines()\n",
    "last_line = output_lines[-1]\n",
    "print(output)\n"
   ]
  }
 ],
 "metadata": {
  "kernelspec": {
   "display_name": "Python 3",
   "language": "python",
   "name": "python3"
  },
  "language_info": {
   "codemirror_mode": {
    "name": "ipython",
    "version": 3
   },
   "file_extension": ".py",
   "mimetype": "text/x-python",
   "name": "python",
   "nbconvert_exporter": "python",
   "pygments_lexer": "ipython3",
   "version": "3.9.0"
  },
  "orig_nbformat": 4
 },
 "nbformat": 4,
 "nbformat_minor": 2
}
