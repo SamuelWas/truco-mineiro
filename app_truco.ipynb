{
 "cells": [
  {
   "cell_type": "code",
   "execution_count": 10,
   "metadata": {},
   "outputs": [],
   "source": [
    "from jogador import Jogador\n",
    "from baralho import Baralho\n",
    "from tabela_de_pontos import TabelaDePontos\n",
    "from constantes import manilhas, valores, naipes\n",
    "import os\n",
    "import platform\n",
    "\n",
    "class Jogo():\n",
    "    def __init__(self, num_jogadores):\n",
    "        \n",
    "        self.numero_jogadores = num_jogadores\n",
    "        self.jogadores = self.obter_jogadores(num_jogadores)\n",
    "        self.vencedor_da_rodada = 0\n",
    "        self.baralho = Baralho()\n",
    "        self.tabela_pontos = TabelaDePontos()\n",
    "        self.pilha_de_cartas = []\n",
    "        self.dict_pontos_cartas = self.obter_ordem_truco_mineiro()\n",
    "        self.rodada = 0\n",
    "        self.estado_jogo = 0\n",
    "\n",
    "    def _limpar_cmd(self):\n",
    "        sistema_operacional = platform.system()\n",
    "        if sistema_operacional == 'Windows':\n",
    "            os.system('cls')\n",
    "        else:\n",
    "            os.system('clear')\n",
    "    \n",
    "    def obter_jogadores(self, numero_jogadores):\n",
    "        lista_de_jogadores = list()\n",
    "        for id in range(1, numero_jogadores + 1):\n",
    "            id_time = self.calcular_id_time_do_jogador(id)\n",
    "            print(\"Escolha o nome do jogador \"+str(id)+\" (time \"+str(id_time)+\"): \")\n",
    "            nome_do_jogador = input()\n",
    "            lista_de_jogadores.append(Jogador(nome_do_jogador, id, id_time))\n",
    "        return lista_de_jogadores\n",
    "    \n",
    "    def calcular_id_time_do_jogador(self , id_jogador):\n",
    "        return str(2 - (id_jogador % 2))\n",
    "    \n",
    "    def obter_ordem_truco_mineiro(self):\n",
    "        score = 1\n",
    "        dict_pontos_cartas = {}\n",
    "        for valor in valores:\n",
    "            for naipe in naipes:\n",
    "                carta = valor + naipe\n",
    "                if carta not in manilhas: \n",
    "                    dict_pontos_cartas[carta] = score\n",
    "            score += 1\n",
    "\n",
    "        for manilha in manilhas:\n",
    "            dict_pontos_cartas[manilha] = score\n",
    "            score += 1\n",
    "        return dict_pontos_cartas \n",
    "\n",
    "    def limpar_pilha_cartas(self):\n",
    "        self.pilha_de_cartas.clear()\n",
    "\n",
    "    def adicionar_jogada_a_pilha(self, carta, jogador_id):\n",
    "        self.pilha_de_cartas.append((carta, jogador_id))\n",
    "\n",
    "    def _resetar_baralho(self):\n",
    "        self.baralho = Baralho()\n",
    "        print('Embaralhando as cartas...')\n",
    "    \n",
    "    def rodar_vez(self):\n",
    "        idx = 0\n",
    "        eixo_de_rotacao = 0\n",
    "        for jogador in self.jogadores:\n",
    "            if jogador.id_jogador == self.vencedor_da_rodada:\n",
    "                eixo_de_rotacao = idx\n",
    "            idx += 1\n",
    "        self.jogadores = self.jogadores[eixo_de_rotacao:] + self.jogadores[:eixo_de_rotacao]\n",
    "\n",
    "    def _calcular_vencedor(self):\n",
    "        maior_valor = 0\n",
    "        vencedores = []\n",
    "        for carta, id_jogador in self.pilha_de_cartas:\n",
    "            valor_carta = self.dict_pontos_cartas[str(carta)]\n",
    "            if valor_carta > maior_valor:\n",
    "                vencedores = []\n",
    "                maior_valor = valor_carta\n",
    "                vencedores.append((carta, id_jogador))\n",
    "            elif valor_carta == maior_valor:\n",
    "                vencedores.append((carta, id_jogador))\n",
    "        \n",
    "        if len(vencedores) == 1:\n",
    "            return vencedores.pop()\n",
    "        time_vencedor = self.calcular_id_time_do_jogador(vencedores[0][1])\n",
    "        for carta,id_jogador in vencedores:\n",
    "            if time_vencedor != self.calcular_id_time_do_jogador(id_jogador):\n",
    "                return 0\n",
    "        return vencedores.pop()\n",
    "    \n",
    "    def _resetar_estado_jogo(self):\n",
    "        self.estado_jogo = 0\n",
    "    \n",
    "    def _receber_input_jogada(self):\n",
    "        print(\"Qual jogada deseja realizar? A - Aumentar a aposta, J - jogar uma carta:  \")\n",
    "        return str(input()).upper()\n",
    "    \n",
    "    def _receber_input_aposta(self):\n",
    "        print('Digite D para dobrar a aposta, C para correr, ou A para aceitar: ')\n",
    "        return str(input()).upper()\n",
    "    \n",
    "    def _distribuir_cartas_para_jogadores(self):\n",
    "        for i in range (3):\n",
    "            for jogador in self.jogadores:\n",
    "                carta = self.baralho.virar()\n",
    "                jogador.receber_carta(carta)\n",
    "\n",
    "    def controlar_fluxo_partida(self):\n",
    "        self._distribuir_cartas_para_jogadores()\n",
    "        self.limpar_pilha_cartas()\n",
    "        vencedor_partidas = []\n",
    "        vencedor_rodada = self.nova_rodada()\n",
    "        \n",
    "        if vencedor_rodada != 0:\n",
    "            #Se não empatou, comece uma nova rodada.\n",
    "            vencedor_partidas.append(vencedor_rodada)\n",
    "            vencedor_nova_rodada = self.nova_rodada()\n",
    "            \n",
    "            #Caso a nova rodada empatar, vence quem ganhou a primeira\n",
    "            if vencedor_nova_rodada == 0:\n",
    "                return  vencedor_partidas[0], self.estado_jogo\n",
    "            \n",
    "            elif vencedor_nova_rodada == vencedor_rodada:\n",
    "                vencedor_rodada, self.estado_jogo\n",
    "            \n",
    "            #Caso não empatar, joguemos a terceira rodada. Como cada um ganhou uma rodada, ganha quem ganhar a terceira\n",
    "            else:\n",
    "                vencedor_terceira_rodada = self.nova_rodada()\n",
    "                return vencedor_terceira_rodada, self.estado_jogo\n",
    "        \n",
    "        \n",
    "        #Caso tenha empatado\n",
    "        else:\n",
    "            vencedor_rodada_empatada = self.nova_rodada()\n",
    "            if vencedor_rodada_empatada != 0:\n",
    "                return vencedor_rodada_empatada, self.estado_jogo\n",
    "            \n",
    "            #Caso empate novamente\n",
    "            else:\n",
    "                vencedor_nova_rodada_empatada = self.nova_rodada()\n",
    "                return vencedor_nova_rodada_empatada, self.estado_jogo\n",
    "                \n",
    "\n",
    "    def nova_rodada(self):\n",
    "        for idx, jogador in enumerate(self.jogadores):\n",
    "            jogador.mostrar_mao()\n",
    "            play = self._receber_input_jogada()\n",
    "            \n",
    "            if play == 'J':\n",
    "                carta = jogador.realizar_jogada()\n",
    "                self.adicionar_jogada_a_pilha(carta, jogador.id_jogador)\n",
    "            else:\n",
    "                self._limpar_cmd()\n",
    "                print(f'{jogador.nome} Aumentou a aposta, deseja aceitar, correr ou aumentar a aposta novamente?')\n",
    "                aceitou = self._receber_input_aposta()\n",
    "                \n",
    "                if aceitou == 'A':\n",
    "                    self._limpar_cmd()\n",
    "                    self.estado_jogo = 2\n",
    "                    carta = jogador.realizar_jogada()\n",
    "                    self.adicionar_jogada_a_pilha(carta, jogador.id_jogador)\n",
    "                \n",
    "                elif aceitou == 'C':\n",
    "                    vencedor_rodada = jogador\n",
    "                    return vencedor_rodada\n",
    "                \n",
    "                else:\n",
    "                    carta = jogador.realizar_jogada()\n",
    "                    self.adicionar_jogada_a_pilha(carta, jogador.id_jogador)\n",
    "        \n",
    "        return self._calcular_vencedor()    "
   ]
  },
  {
   "cell_type": "code",
   "execution_count": 11,
   "metadata": {},
   "outputs": [
    {
     "name": "stdout",
     "output_type": "stream",
     "text": [
      "Escolha o nome do jogador 1 (time 1): \n",
      "Escolha o nome do jogador 2 (time 2): \n"
     ]
    }
   ],
   "source": [
    "jogo = Jogo(2)"
   ]
  },
  {
   "cell_type": "code",
   "execution_count": 12,
   "metadata": {},
   "outputs": [
    {
     "data": {
      "text/plain": [
       "[rodz, dani]"
      ]
     },
     "execution_count": 12,
     "metadata": {},
     "output_type": "execute_result"
    }
   ],
   "source": [
    "jogo.jogadores"
   ]
  },
  {
   "cell_type": "code",
   "execution_count": 16,
   "metadata": {},
   "outputs": [
    {
     "name": "stdout",
     "output_type": "stream",
     "text": [
      "Sua mão rodz:\n",
      "A♣,K♣,6♠,3♦\n",
      "Qual jogada deseja realizar? A - Aumentar a aposta, J - jogar uma carta:  \n"
     ]
    },
    {
     "ename": "TypeError",
     "evalue": "_limpar_cmd() takes 0 positional arguments but 1 was given",
     "output_type": "error",
     "traceback": [
      "\u001b[1;31m---------------------------------------------------------------------------\u001b[0m",
      "\u001b[1;31mTypeError\u001b[0m                                 Traceback (most recent call last)",
      "Cell \u001b[1;32mIn[16], line 1\u001b[0m\n\u001b[1;32m----> 1\u001b[0m vencedor_rodada \u001b[39m=\u001b[39m jogo\u001b[39m.\u001b[39;49mcontrolar_fluxo_partida()\n",
      "Cell \u001b[1;32mIn[10], line 115\u001b[0m, in \u001b[0;36mJogo.controlar_fluxo_partida\u001b[1;34m(self)\u001b[0m\n\u001b[0;32m    113\u001b[0m \u001b[39mself\u001b[39m\u001b[39m.\u001b[39mlimpar_pilha_cartas()\n\u001b[0;32m    114\u001b[0m vencedor_partidas \u001b[39m=\u001b[39m []\n\u001b[1;32m--> 115\u001b[0m vencedor_rodada \u001b[39m=\u001b[39m \u001b[39mself\u001b[39;49m\u001b[39m.\u001b[39;49mnova_rodada()\n\u001b[0;32m    117\u001b[0m \u001b[39mif\u001b[39;00m vencedor_rodada \u001b[39m!=\u001b[39m \u001b[39m0\u001b[39m:\n\u001b[0;32m    118\u001b[0m     \u001b[39m#Se não empatou, comece uma nova rodada.\u001b[39;00m\n\u001b[0;32m    119\u001b[0m     vencedor_partidas\u001b[39m.\u001b[39mappend(vencedor_rodada)\n",
      "Cell \u001b[1;32mIn[10], line 156\u001b[0m, in \u001b[0;36mJogo.nova_rodada\u001b[1;34m(self)\u001b[0m\n\u001b[0;32m    154\u001b[0m     \u001b[39mself\u001b[39m\u001b[39m.\u001b[39madicionar_jogada_a_pilha(carta, jogador\u001b[39m.\u001b[39mid_jogador)\n\u001b[0;32m    155\u001b[0m \u001b[39melse\u001b[39;00m:\n\u001b[1;32m--> 156\u001b[0m     \u001b[39mself\u001b[39;49m\u001b[39m.\u001b[39;49m_limpar_cmd()\n\u001b[0;32m    157\u001b[0m     \u001b[39mprint\u001b[39m(\u001b[39mf\u001b[39m\u001b[39m'\u001b[39m\u001b[39m{\u001b[39;00mjogador\u001b[39m.\u001b[39mnome\u001b[39m}\u001b[39;00m\u001b[39m Aumentou a aposta, deseja aceitar, correr ou aumentar a aposta novamente?\u001b[39m\u001b[39m'\u001b[39m)\n\u001b[0;32m    158\u001b[0m     aceitou \u001b[39m=\u001b[39m \u001b[39mself\u001b[39m\u001b[39m.\u001b[39m_receber_input_aposta()\n",
      "\u001b[1;31mTypeError\u001b[0m: _limpar_cmd() takes 0 positional arguments but 1 was given"
     ]
    }
   ],
   "source": [
    "vencedor_rodada = jogo.controlar_fluxo_partida()"
   ]
  },
  {
   "cell_type": "code",
   "execution_count": 15,
   "metadata": {},
   "outputs": [
    {
     "name": "stdout",
     "output_type": "stream",
     "text": [
      "None\n"
     ]
    }
   ],
   "source": [
    "print(vencedor_rodada)"
   ]
  }
 ],
 "metadata": {
  "kernelspec": {
   "display_name": "base",
   "language": "python",
   "name": "python3"
  },
  "language_info": {
   "codemirror_mode": {
    "name": "ipython",
    "version": 3
   },
   "file_extension": ".py",
   "mimetype": "text/x-python",
   "name": "python",
   "nbconvert_exporter": "python",
   "pygments_lexer": "ipython3",
   "version": "3.9.0"
  },
  "orig_nbformat": 4
 },
 "nbformat": 4,
 "nbformat_minor": 2
}
