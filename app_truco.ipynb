{
 "cells": [
  {
   "cell_type": "code",
   "execution_count": 1,
   "metadata": {},
   "outputs": [],
   "source": [
    "from jogador import Jogador\n",
    "from baralho import Baralho\n",
    "from tabela_de_pontos import TabelaDePontos\n",
    "from constantes import manilhas, valores, naipes\n",
    "import os\n",
    "import platform\n",
    "\n",
    "class Jogo():\n",
    "    def __init__(self, num_jogadores):\n",
    "        \n",
    "        self.numero_jogadores = num_jogadores\n",
    "        self.jogadores = self.obter_jogadores(num_jogadores)\n",
    "        self.baralho = Baralho()\n",
    "        self.tabela_pontos = TabelaDePontos()\n",
    "        self.dict_pontos_cartas = self.obter_ordem_truco_mineiro()\n",
    "\n",
    "    def _limpar_cmd():\n",
    "        sistema_operacional = platform.system()\n",
    "\n",
    "        if sistema_operacional == 'Windows':\n",
    "            os.system('cls')\n",
    "        else:\n",
    "            os.system('clear')\n",
    "    \n",
    "    def obter_ordem_truco_mineiro(self):\n",
    "        score = 1\n",
    "        dict_pontos_cartas = {}\n",
    "        for valor in valores:\n",
    "            for naipe in naipes:\n",
    "                carta = valor + naipe\n",
    "                if carta not in manilhas: \n",
    "                    dict_pontos_cartas[carta] = score\n",
    "            score += 1\n",
    "\n",
    "        for manilha in manilhas:\n",
    "            dict_pontos_cartas[manilha] = score\n",
    "            score += 1\n",
    "        return dict_pontos_cartas \n",
    "    \n",
    "    def obter_jogadores(self, numero_jogadores):\n",
    "        lista_de_jogadores = list()\n",
    "        for id in range(1, numero_jogadores + 1):\n",
    "            id_time = self.calcular_id_time_do_jogador(id)\n",
    "            print(\"Escolha o nome do jogador \"+str(id)+\" (time \"+str(id_time)+\"): \")\n",
    "            nome_do_jogador = input()\n",
    "            lista_de_jogadores.append(Jogador(nome_do_jogador, id, id_time))\n",
    "        return lista_de_jogadores\n",
    "    \n",
    "    def calcular_id_time_do_jogador(self , id_jogador):\n",
    "        return str(2 - (id_jogador % 2))"
   ]
  },
  {
   "cell_type": "code",
   "execution_count": 2,
   "metadata": {},
   "outputs": [
    {
     "name": "stdout",
     "output_type": "stream",
     "text": [
      "Escolha o nome do jogador 1 (time 1): \n",
      "Escolha o nome do jogador 2 (time 2): \n"
     ]
    }
   ],
   "source": [
    "jogo = Jogo(2)"
   ]
  },
  {
   "cell_type": "code",
   "execution_count": 3,
   "metadata": {},
   "outputs": [
    {
     "data": {
      "text/plain": [
       "[ar2, ajsdiosa]"
      ]
     },
     "execution_count": 3,
     "metadata": {},
     "output_type": "execute_result"
    }
   ],
   "source": [
    "jogo.jogadores"
   ]
  }
 ],
 "metadata": {
  "kernelspec": {
   "display_name": "base",
   "language": "python",
   "name": "python3"
  },
  "language_info": {
   "codemirror_mode": {
    "name": "ipython",
    "version": 3
   },
   "file_extension": ".py",
   "mimetype": "text/x-python",
   "name": "python",
   "nbconvert_exporter": "python",
   "pygments_lexer": "ipython3",
   "version": "3.9.0"
  },
  "orig_nbformat": 4
 },
 "nbformat": 4,
 "nbformat_minor": 2
}
