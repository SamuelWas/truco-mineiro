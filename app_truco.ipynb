{
 "cells": [
  {
   "cell_type": "code",
   "execution_count": 123,
   "metadata": {},
   "outputs": [],
   "source": [
    "from enum import Enum\n",
    "from dataclasses import dataclass\n",
    "from typing import List\n",
    "import random\n",
    "\n",
    "carta_valores=[\n",
    "    'A',\n",
    "    '2',\n",
    "    '3',\n",
    "    '4',\n",
    "    '5',\n",
    "    '6',\n",
    "    '7',\n",
    "    '8',\n",
    "    '9',\n",
    "    '10',\n",
    "    'J',\n",
    "    'Q',\n",
    "    'K'\n",
    "]\n",
    "\n",
    "carta_nipes=[\n",
    "   '♦',\n",
    "   '♠',\n",
    "   '♥',\n",
    "   '♣'\n",
    "]\n",
    "\n",
    "@dataclass(frozen=True)\n",
    "class Carta:\n",
    "    valor: str\n",
    "    naipe: str\n",
    "\n",
    "    def __str__(self):\n",
    "        return self.valor + self.naipe\n",
    "\n",
    "    def __repr__(self):\n",
    "        return self.valor + self.naipe\n",
    "\n",
    "    \n",
    "\n",
    "class Baralho:\n",
    "    \"\"\" Classe que define um baralho de cartas. \"\"\"\n",
    "    def __init__(self):\n",
    "        self.cartas = self.novodeque()\n",
    "\n",
    "    def novodeque(self):\n",
    "        \"\"\" Método de geração das cartas de forma ordenada. \"\"\"\n",
    "        cartas = [Carta(v, n) for v in list(carta_valores) for n in list(carta_nipes)]\n",
    "        return self.embaralhar(cartas)\n",
    "    \n",
    "    def remover_cartas_inutilizaveis(self):\n",
    "        self.cartas = [carta for carta in self.cartas if carta.valor not in ['8', '9', '10']]\n",
    "\n",
    "    def embaralhar(self, cartas):\n",
    "        random.shuffle(cartas)\n",
    "        return cartas\n",
    "    \n",
    "    def virar(self):\n",
    "        \"\"\" Retira a carta do topo e remove do baralho. \"\"\"\n",
    "        return self.cartas.pop()"
   ]
  },
  {
   "cell_type": "code",
   "execution_count": 124,
   "metadata": {},
   "outputs": [
    {
     "data": {
      "text/plain": [
       "[A♠,\n",
       " K♥,\n",
       " K♦,\n",
       " 7♦,\n",
       " Q♥,\n",
       " J♠,\n",
       " 4♦,\n",
       " 3♥,\n",
       " 4♠,\n",
       " Q♠,\n",
       " K♠,\n",
       " 3♠,\n",
       " 6♦,\n",
       " A♦,\n",
       " A♣,\n",
       " 5♥,\n",
       " 5♦,\n",
       " 7♥,\n",
       " 2♥,\n",
       " J♦,\n",
       " 3♣,\n",
       " Q♦,\n",
       " 4♣,\n",
       " 3♦,\n",
       " K♣,\n",
       " 5♣,\n",
       " 2♣,\n",
       " 6♠,\n",
       " A♥,\n",
       " J♥,\n",
       " 7♣,\n",
       " 6♥,\n",
       " 5♠,\n",
       " J♣,\n",
       " 6♣,\n",
       " 7♠,\n",
       " Q♣,\n",
       " 2♠,\n",
       " 4♥,\n",
       " 2♦]"
      ]
     },
     "execution_count": 124,
     "metadata": {},
     "output_type": "execute_result"
    }
   ],
   "source": [
    "baralho = Baralho()\n",
    "baralho.remover_cartas_inutilizaveis()\n",
    "baralho.cartas"
   ]
  },
  {
   "cell_type": "code",
   "execution_count": 120,
   "metadata": {},
   "outputs": [
    {
     "data": {
      "text/plain": [
       "A♣"
      ]
     },
     "execution_count": 120,
     "metadata": {},
     "output_type": "execute_result"
    }
   ],
   "source": [
    "baralho.virar()"
   ]
  },
  {
   "cell_type": "code",
   "execution_count": 121,
   "metadata": {},
   "outputs": [
    {
     "data": {
      "text/plain": [
       "[Q♥,\n",
       " J♦,\n",
       " 3♠,\n",
       " K♥,\n",
       " Q♠,\n",
       " 6♦,\n",
       " A♠,\n",
       " J♠,\n",
       " Q♦,\n",
       " J♣,\n",
       " 3♥,\n",
       " 2♦,\n",
       " 5♣,\n",
       " 3♣,\n",
       " J♥,\n",
       " K♠,\n",
       " 2♠,\n",
       " 6♠,\n",
       " 5♥,\n",
       " 2♥,\n",
       " K♦,\n",
       " 7♠,\n",
       " 5♦,\n",
       " 6♣,\n",
       " 4♠,\n",
       " K♣,\n",
       " A♥,\n",
       " 4♦,\n",
       " 3♦,\n",
       " 4♥,\n",
       " 4♣,\n",
       " 7♦,\n",
       " 2♣,\n",
       " 5♠,\n",
       " 6♥,\n",
       " 7♣,\n",
       " Q♣,\n",
       " 7♥,\n",
       " A♦]"
      ]
     },
     "execution_count": 121,
     "metadata": {},
     "output_type": "execute_result"
    }
   ],
   "source": [
    "baralho.cartas"
   ]
  }
 ],
 "metadata": {
  "kernelspec": {
   "display_name": "base",
   "language": "python",
   "name": "python3"
  },
  "language_info": {
   "codemirror_mode": {
    "name": "ipython",
    "version": 3
   },
   "file_extension": ".py",
   "mimetype": "text/x-python",
   "name": "python",
   "nbconvert_exporter": "python",
   "pygments_lexer": "ipython3",
   "version": "3.9.12"
  },
  "orig_nbformat": 4
 },
 "nbformat": 4,
 "nbformat_minor": 2
}
